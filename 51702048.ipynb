{
  "nbformat": 4,
  "nbformat_minor": 0,
  "metadata": {
    "colab": {
      "name": "51702048.ipynb",
      "provenance": [],
      "collapsed_sections": []
    },
    "kernelspec": {
      "name": "python3",
      "display_name": "Python 3"
    }
  },
  "cells": [
    {
      "cell_type": "code",
      "metadata": {
        "colab": {
          "base_uri": "https://localhost:8080/"
        },
        "id": "S5twcTC_76oN",
        "outputId": "0c974209-c93b-4653-a189-9c3a480f20fa"
      },
      "source": [
        "!pip install pyspark"
      ],
      "execution_count": null,
      "outputs": [
        {
          "output_type": "stream",
          "text": [
            "Collecting pyspark\n",
            "\u001b[?25l  Downloading https://files.pythonhosted.org/packages/f0/26/198fc8c0b98580f617cb03cb298c6056587b8f0447e20fa40c5b634ced77/pyspark-3.0.1.tar.gz (204.2MB)\n",
            "\u001b[K     |████████████████████████████████| 204.2MB 49kB/s \n",
            "\u001b[?25hCollecting py4j==0.10.9\n",
            "\u001b[?25l  Downloading https://files.pythonhosted.org/packages/9e/b6/6a4fb90cd235dc8e265a6a2067f2a2c99f0d91787f06aca4bcf7c23f3f80/py4j-0.10.9-py2.py3-none-any.whl (198kB)\n",
            "\u001b[K     |████████████████████████████████| 204kB 41.8MB/s \n",
            "\u001b[?25hBuilding wheels for collected packages: pyspark\n",
            "  Building wheel for pyspark (setup.py) ... \u001b[?25l\u001b[?25hdone\n",
            "  Created wheel for pyspark: filename=pyspark-3.0.1-py2.py3-none-any.whl size=204612242 sha256=57db86dbedeebac9c71db70e615da996ef6bf2e550cfe321390706ac7a96c297\n",
            "  Stored in directory: /root/.cache/pip/wheels/5e/bd/07/031766ca628adec8435bb40f0bd83bb676ce65ff4007f8e73f\n",
            "Successfully built pyspark\n",
            "Installing collected packages: py4j, pyspark\n",
            "Successfully installed py4j-0.10.9 pyspark-3.0.1\n"
          ],
          "name": "stdout"
        }
      ]
    },
    {
      "cell_type": "code",
      "metadata": {
        "id": "MXyY-fsYAMq7"
      },
      "source": [
        "import pyspark\r\n",
        "from pyspark import SparkContext\r\n",
        "sc =SparkContext()"
      ],
      "execution_count": null,
      "outputs": []
    },
    {
      "cell_type": "code",
      "metadata": {
        "colab": {
          "base_uri": "https://localhost:8080/"
        },
        "id": "UOQye090AQXK",
        "outputId": "aaf0c7e3-a83c-4498-9e03-1f592aafd429"
      },
      "source": [
        "file_name = '/content/sample_data/text.txt'\r\n",
        "temp_file = open(file_name,encoding='utf-8')\r\n",
        "print(temp_file.readlines())"
      ],
      "execution_count": null,
      "outputs": [
        {
          "output_type": "stream",
          "text": [
            "['Tạ Văn Trọng Tạ Văn Trọng Tạ Văn Trọng Văn Trọng Tạ Văn']\n"
          ],
          "name": "stdout"
        }
      ]
    },
    {
      "cell_type": "code",
      "metadata": {
        "colab": {
          "base_uri": "https://localhost:8080/"
        },
        "id": "tqpePM0fBZbJ",
        "outputId": "1bd4bce3-84ee-4e0b-dd07-189642ebfb20"
      },
      "source": [
        "f = open(\"/content/sample_data/text.txt\", encoding='utf-8')\r\n",
        "content = f.read()\r\n",
        "content_list = content.split()\r\n",
        "f.close()\r\n",
        "# print(content_list)\r\n",
        "rdd = sc.parallelize(content_list)\r\n",
        "counts = rdd.map(lambda word: (word,1))\r\n",
        "# print(counts.collect())\r\n",
        "red = counts.reduceByKey(lambda x,y: x + y)\r\n",
        "print(red.collect())\r\n"
      ],
      "execution_count": null,
      "outputs": [
        {
          "output_type": "stream",
          "text": [
            "[('Trọng', 4), ('Tạ', 4), ('Văn', 5)]\n"
          ],
          "name": "stdout"
        }
      ]
    }
  ]
}