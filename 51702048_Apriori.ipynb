{
  "nbformat": 4,
  "nbformat_minor": 0,
  "metadata": {
    "colab": {
      "name": "51702048.ipynb",
      "provenance": [],
      "collapsed_sections": []
    },
    "kernelspec": {
      "name": "python3",
      "display_name": "Python 3"
    }
  },
  "cells": [
    {
      "cell_type": "code",
      "metadata": {
        "colab": {
          "base_uri": "https://localhost:8080/"
        },
        "id": "7J9khFRgDGrS",
        "outputId": "57b69dc0-23d8-476b-d200-29802bf2cd1a"
      },
      "source": [
        "!pip install pyspark\r\n",
        "!pip install findspark"
      ],
      "execution_count": null,
      "outputs": [
        {
          "output_type": "stream",
          "text": [
            "Requirement already satisfied: pyspark in /usr/local/lib/python3.7/dist-packages (3.0.2)\n",
            "Requirement already satisfied: py4j==0.10.9 in /usr/local/lib/python3.7/dist-packages (from pyspark) (0.10.9)\n",
            "Collecting findspark\n",
            "  Downloading https://files.pythonhosted.org/packages/fc/2d/2e39f9a023479ea798eed4351cd66f163ce61e00c717e03c37109f00c0f2/findspark-1.4.2-py2.py3-none-any.whl\n",
            "Installing collected packages: findspark\n",
            "Successfully installed findspark-1.4.2\n"
          ],
          "name": "stdout"
        }
      ]
    },
    {
      "cell_type": "code",
      "metadata": {
        "colab": {
          "base_uri": "https://localhost:8080/"
        },
        "id": "arJvwZBIaMs3",
        "outputId": "936be8ca-652b-4066-9e50-91a70e1436ea"
      },
      "source": [
        "import pyspark\r\n",
        "from pyspark import SparkConf, SparkContext\r\n",
        "from pyspark.sql import SparkSession\r\n",
        "import pandas as pd\r\n",
        "import io\r\n",
        "import collections\r\n",
        "spark = SparkSession.builder.master(\"local[2]\").appName(\"dataframetest\").getOrCreate()\r\n",
        "df = spark.read.csv(\"sample_data/store_data.csv\")\r\n",
        "df.show()"
      ],
      "execution_count": null,
      "outputs": [
        {
          "output_type": "stream",
          "text": [
            "+-----------------+------------+-------------+----------------+-------------+----------------+--------------+--------------+------------+--------------------+--------------+---------+-----+-----+-------------+------+-----------------+---------------+-------+---------+\n",
            "|              _c0|         _c1|          _c2|             _c3|          _c4|             _c5|           _c6|           _c7|         _c8|                 _c9|          _c10|     _c11| _c12| _c13|         _c14|  _c15|             _c16|           _c17|   _c18|     _c19|\n",
            "+-----------------+------------+-------------+----------------+-------------+----------------+--------------+--------------+------------+--------------------+--------------+---------+-----+-----+-------------+------+-----------------+---------------+-------+---------+\n",
            "|           shrimp|     almonds|      avocado|  vegetables mix| green grapes|whole weat flour|          yams|cottage cheese|energy drink|        tomato juice|low fat yogurt|green tea|honey|salad|mineral water|salmon|antioxydant juice|frozen smoothie|spinach|olive oil|\n",
            "|          burgers|   meatballs|         eggs|            null|         null|            null|          null|          null|        null|                null|          null|     null| null| null|         null|  null|             null|           null|   null|     null|\n",
            "|          chutney|        null|         null|            null|         null|            null|          null|          null|        null|                null|          null|     null| null| null|         null|  null|             null|           null|   null|     null|\n",
            "|           turkey|     avocado|         null|            null|         null|            null|          null|          null|        null|                null|          null|     null| null| null|         null|  null|             null|           null|   null|     null|\n",
            "|    mineral water|        milk|   energy bar|whole wheat rice|    green tea|            null|          null|          null|        null|                null|          null|     null| null| null|         null|  null|             null|           null|   null|     null|\n",
            "|   low fat yogurt|        null|         null|            null|         null|            null|          null|          null|        null|                null|          null|     null| null| null|         null|  null|             null|           null|   null|     null|\n",
            "|whole wheat pasta|french fries|         null|            null|         null|            null|          null|          null|        null|                null|          null|     null| null| null|         null|  null|             null|           null|   null|     null|\n",
            "|             soup| light cream|      shallot|            null|         null|            null|          null|          null|        null|                null|          null|     null| null| null|         null|  null|             null|           null|   null|     null|\n",
            "|frozen vegetables|   spaghetti|    green tea|            null|         null|            null|          null|          null|        null|                null|          null|     null| null| null|         null|  null|             null|           null|   null|     null|\n",
            "|     french fries|        null|         null|            null|         null|            null|          null|          null|        null|                null|          null|     null| null| null|         null|  null|             null|           null|   null|     null|\n",
            "|             eggs|    pet food|         null|            null|         null|            null|          null|          null|        null|                null|          null|     null| null| null|         null|  null|             null|           null|   null|     null|\n",
            "|          cookies|        null|         null|            null|         null|            null|          null|          null|        null|                null|          null|     null| null| null|         null|  null|             null|           null|   null|     null|\n",
            "|           turkey|     burgers|mineral water|            eggs|  cooking oil|            null|          null|          null|        null|                null|          null|     null| null| null|         null|  null|             null|           null|   null|     null|\n",
            "|        spaghetti|   champagne|      cookies|            null|         null|            null|          null|          null|        null|                null|          null|     null| null| null|         null|  null|             null|           null|   null|     null|\n",
            "|    mineral water|      salmon|         null|            null|         null|            null|          null|          null|        null|                null|          null|     null| null| null|         null|  null|             null|           null|   null|     null|\n",
            "|    mineral water|        null|         null|            null|         null|            null|          null|          null|        null|                null|          null|     null| null| null|         null|  null|             null|           null|   null|     null|\n",
            "|           shrimp|   chocolate|      chicken|           honey|          oil|     cooking oil|low fat yogurt|          null|        null|                null|          null|     null| null| null|         null|  null|             null|           null|   null|     null|\n",
            "|           turkey|        eggs|         null|            null|         null|            null|          null|          null|        null|                null|          null|     null| null| null|         null|  null|             null|           null|   null|     null|\n",
            "|           turkey|  fresh tuna|     tomatoes|       spaghetti|mineral water|       black tea|        salmon|          eggs|     chicken|extra dark chocolate|          null|     null| null| null|         null|  null|             null|           null|   null|     null|\n",
            "|        meatballs|        milk|        honey|    french fries|  protein bar|            null|          null|          null|        null|                null|          null|     null| null| null|         null|  null|             null|           null|   null|     null|\n",
            "+-----------------+------------+-------------+----------------+-------------+----------------+--------------+--------------+------------+--------------------+--------------+---------+-----+-----+-------------+------+-----------------+---------------+-------+---------+\n",
            "only showing top 20 rows\n",
            "\n"
          ],
          "name": "stdout"
        }
      ]
    },
    {
      "cell_type": "code",
      "metadata": {
        "colab": {
          "base_uri": "https://localhost:8080/"
        },
        "id": "1TZAByj6beGM",
        "outputId": "9dbcd959-3377-4c17-ff23-2d5c12dc5a8e"
      },
      "source": [
        "df.printSchema()"
      ],
      "execution_count": null,
      "outputs": [
        {
          "output_type": "stream",
          "text": [
            "root\n",
            " |-- _c0: string (nullable = true)\n",
            " |-- _c1: string (nullable = true)\n",
            " |-- _c2: string (nullable = true)\n",
            " |-- _c3: string (nullable = true)\n",
            " |-- _c4: string (nullable = true)\n",
            " |-- _c5: string (nullable = true)\n",
            " |-- _c6: string (nullable = true)\n",
            " |-- _c7: string (nullable = true)\n",
            " |-- _c8: string (nullable = true)\n",
            " |-- _c9: string (nullable = true)\n",
            " |-- _c10: string (nullable = true)\n",
            " |-- _c11: string (nullable = true)\n",
            " |-- _c12: string (nullable = true)\n",
            " |-- _c13: string (nullable = true)\n",
            " |-- _c14: string (nullable = true)\n",
            " |-- _c15: string (nullable = true)\n",
            " |-- _c16: string (nullable = true)\n",
            " |-- _c17: string (nullable = true)\n",
            " |-- _c18: string (nullable = true)\n",
            " |-- _c19: string (nullable = true)\n",
            "\n"
          ],
          "name": "stdout"
        }
      ]
    },
    {
      "cell_type": "code",
      "metadata": {
        "id": "Pr1PaBHgqWoT"
      },
      "source": [
        "def generate_unique_item_set(df):\r\n",
        "    # empty dataframe\r\n",
        "    total_item_set_df = None\r\n",
        "    \r\n",
        "    # Iteration over each column - 20 columns\r\n",
        "    for col_index in range(20):\r\n",
        "        \r\n",
        "        # Loading the elements of each column individually\r\n",
        "        _c_df = df.select(\"_c\" + str(col_index))\r\n",
        "        \r\n",
        "        if total_item_set_df is None:\r\n",
        "            # None for the first iteration in the loop\r\n",
        "            total_item_set_df = _c_df\r\n",
        "            \r\n",
        "        else:\r\n",
        "            # After the first iteration, appending the entries from each column to total_item_set_df\r\n",
        "            total_item_set_df = total_item_set_df.union(_c_df)\r\n",
        "            \r\n",
        "    \r\n",
        "    return total_item_set_df.select(\"_c0\").na.drop().rdd.flatMap(remove_duplicate_columns).distinct().toDF()"
      ],
      "execution_count": null,
      "outputs": []
    },
    {
      "cell_type": "code",
      "metadata": {
        "id": "tHI1DfhxrqNs"
      },
      "source": [
        "# Function to remove the columns with duplicate values\r\n",
        "\r\n",
        "def remove_duplicate_columns(x):\r\n",
        "    # Length of the column\r\n",
        "    col_len = len(x)\r\n",
        "    \r\n",
        "    # Empty RDD - set of values\r\n",
        "    columns = set()\r\n",
        "    \r\n",
        "    # Removing any additional spaces from the elements and adding the elements into the column from RDD 'x'\r\n",
        "    for col in range(col_len):\r\n",
        "        x_col = str(x[col]).strip()\r\n",
        "        columns.add(x_col)\r\n",
        "    \r\n",
        "    # To check if elements are present in the provided dataframe/RDD \r\n",
        "    if len(columns) < col_len:\r\n",
        "        return []\r\n",
        "    \r\n",
        "    # Returning the sorted list of items in each element as tuple\r\n",
        "    return [(tuple(sorted(columns)))]"
      ],
      "execution_count": null,
      "outputs": []
    },
    {
      "cell_type": "code",
      "metadata": {
        "colab": {
          "base_uri": "https://localhost:8080/"
        },
        "id": "0q7PNR-Wrtsj",
        "outputId": "49c070fc-f331-4c46-8615-1d2c462bf791"
      },
      "source": [
        "# Syntax structure: item_sets = function(dataframe)\r\n",
        "item_sets = generate_unique_item_set(df)\r\n",
        "item_sets.show()\r\n",
        "# Give the number of unique items in the transaction dataset\r\n",
        "print('item unique is:',item_sets.count())"
      ],
      "execution_count": null,
      "outputs": [
        {
          "output_type": "stream",
          "text": [
            "+--------------------+\n",
            "|                  _1|\n",
            "+--------------------+\n",
            "|   whole wheat pasta|\n",
            "|           asparagus|\n",
            "|            pancakes|\n",
            "|         blueberries|\n",
            "|            zucchini|\n",
            "|              shrimp|\n",
            "|             burgers|\n",
            "|           spaghetti|\n",
            "|         french wine|\n",
            "|       strong cheese|\n",
            "|extra dark chocolate|\n",
            "|              melons|\n",
            "|               cream|\n",
            "|   frozen vegetables|\n",
            "|           meatballs|\n",
            "|          energy bar|\n",
            "|            escalope|\n",
            "|        energy drink|\n",
            "|                mint|\n",
            "|      vegetables mix|\n",
            "+--------------------+\n",
            "only showing top 20 rows\n",
            "\n",
            "item unique is: 119\n"
          ],
          "name": "stdout"
        }
      ]
    },
    {
      "cell_type": "code",
      "metadata": {
        "id": "OXeGOjxPsP1i"
      },
      "source": [
        "# def get_freq_item_sets(total_records, candidate_sets_shared, transaction_df_rdd, min_support):    \r\n",
        "#     #filtered_item_set = transaction_df_rdd.flatMap(lambda x: filter_and_map_transaction(x, candidate_sets_shared)) \\\r\n",
        "#     filtered_item_set = transaction_df_rdd.flatMap(lambda x: filter_and_map_transaction(x, candidate_sets_shared)).reduceByKey(lambda a, b: a+b).map(lambda x: (x[0], x[1]/total_records)).filter(lambda x: x[1]>=min_support)\r\n",
        "\r\n",
        "#     return filtered_item_set"
      ],
      "execution_count": null,
      "outputs": []
    },
    {
      "cell_type": "code",
      "metadata": {
        "id": "JfL3zpDssVsL"
      },
      "source": [
        "# from pyspark.sql.types import StructType, ArrayType, StructField, DoubleType, StringType\r\n",
        "\r\n",
        "# def apriori(item_sets, transaction_df_rdd, min_support):\r\n",
        "    \r\n",
        "#     \"\"\"\r\n",
        "#     Attributes\r\n",
        "#     ----------\r\n",
        "#     item_sets: DataFrame that has all the items present in the transactions\r\n",
        "    \r\n",
        "#     transaction_df_rdd: Transacations in the form of an RDD\r\n",
        "    \r\n",
        "#     min_support: Minimum support threshold\r\n",
        "#     -----------\r\n",
        "#     \"\"\"\r\n",
        "    \r\n",
        "#     total_records = transaction_df_rdd.count()\r\n",
        "\r\n",
        "#     freq_item_sets_all_orders = []\r\n",
        "\r\n",
        "#     candidate_sets_order_1 = spark.sparkContext.broadcast(item_sets.collect())\r\n",
        "    \r\n",
        "#     frequent_item_sets_order_1 = get_freq_item_sets(total_records, candidate_sets_order_1, transaction_df_rdd, min_support)\r\n",
        "#     freq_item_sets_all_orders.append(frequent_item_sets_order_1)\r\n",
        "    \r\n",
        "#     frequent_item_sets_order_1_df = frequent_item_sets_order_1.map(lambda x:tuple(x[0])).toDF()\r\n",
        "    \r\n",
        "#     k = 0\r\n",
        "#     while is_freq_item_set_not_empty(freq_item_sets_all_orders[k]):\r\n",
        "        \r\n",
        "#         current_candidate_sets = get_all_possible_candidate_sets(freq_item_sets_all_orders[k], frequent_item_sets_order_1_df)\r\n",
        "#         current_candidate_sets = spark.sparkContext.broadcast(current_candidate_sets.collect()) \r\n",
        "#         current_frequent_item_sets = get_freq_item_sets(total_records, current_candidate_sets, transaction_df_rdd, min_support)\r\n",
        "        \r\n",
        "#         freq_item_sets_all_orders.append(current_frequent_item_sets)\r\n",
        "#         k += 1\r\n",
        "#     return freq_item_sets_all_orders"
      ],
      "execution_count": null,
      "outputs": []
    },
    {
      "cell_type": "code",
      "metadata": {
        "id": "coxlcrmPsYzm"
      },
      "source": [
        "# Generate the frequent item set using the apriori function created above.\r\n",
        "# Minimum support = 0.01\r\n",
        "# Check the format in which each attribute must be provided\r\n",
        "\r\n",
        "# transaction_df_rdd = df.rdd\r\n",
        "# freq_item_sets_all_orders = apriori(item_sets, transaction_df_rdd, 0.01)\r\n",
        "\r\n",
        "# print(freq_item_sets_all_orders)\r\n",
        "# freq_item_sets_all_orders[0].take(20)"
      ],
      "execution_count": null,
      "outputs": []
    },
    {
      "cell_type": "code",
      "metadata": {
        "colab": {
          "base_uri": "https://localhost:8080/",
          "height": 168
        },
        "id": "7wlyqjgwvglk",
        "outputId": "634eb0df-18cc-43b4-aa26-6337b379b0f9"
      },
      "source": [
        ""
      ],
      "execution_count": null,
      "outputs": [
        {
          "output_type": "error",
          "ename": "NameError",
          "evalue": "ignored",
          "traceback": [
            "\u001b[0;31m---------------------------------------------------------------------------\u001b[0m",
            "\u001b[0;31mNameError\u001b[0m                                 Traceback (most recent call last)",
            "\u001b[0;32m<ipython-input-40-e3e04991cfe1>\u001b[0m in \u001b[0;36m<module>\u001b[0;34m()\u001b[0m\n\u001b[0;32m----> 1\u001b[0;31m \u001b[0mfreq_item_sets_all_orders\u001b[0m\u001b[0;34m[\u001b[0m\u001b[0;36m1\u001b[0m\u001b[0;34m]\u001b[0m\u001b[0;34m.\u001b[0m\u001b[0mtake\u001b[0m\u001b[0;34m(\u001b[0m\u001b[0;36m20\u001b[0m\u001b[0;34m)\u001b[0m\u001b[0;34m\u001b[0m\u001b[0;34m\u001b[0m\u001b[0m\n\u001b[0m",
            "\u001b[0;31mNameError\u001b[0m: name 'freq_item_sets_all_orders' is not defined"
          ]
        }
      ]
    }
  ]
}